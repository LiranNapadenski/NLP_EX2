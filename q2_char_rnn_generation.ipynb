{
 "cells": [
  {
   "cell_type": "markdown",
   "metadata": {
    "id": "XPKTqQ3W8qLt"
   },
   "source": [
    "To begin upload this notebook to your own drive:\n",
    "\n",
    "### Submission Instructions:\n",
    "1. **Restart the kernel** (in the menubar, select Runtime$\\rightarrow$Restart runtime)\n",
    "2. **Run all cells** (in the menubar, select Runtime$\\rightarrow$Run All).\n",
    "3. **Download the notebook** (in the menubar, select File$\\rightarrow$Download .ipynb)\n",
    "4. **Upload the downloaded notebook (.ipynb file) to your repository**.\n",
    "\n",
    "Note: To use a GPU, do the following: Runtime$\\rightarrow$Change runtime type$\\rightarrow$ GPU\n",
    "\n",
    "Make sure you fill in any place that says `YOUR CODE HERE`, and that no tests fail.  "
   ]
  },
  {
   "cell_type": "markdown",
   "metadata": {
    "deletable": false,
    "editable": false,
    "id": "XvPkt7Zm8qLt",
    "nbgrader": {
     "cell_type": "markdown",
     "checksum": "5493400e8b7f9a8e2cde874866d4fa7f",
     "grade": false,
     "grade_id": "cell-3a1bca1dbb7d0069",
     "locked": true,
     "schema_version": 3,
     "solution": false,
     "task": false
    }
   },
   "source": [
    "# ![shakespeare](https://i.imgur.com/81YZuel.jpg)\n",
    "\n",
    "# Generating Shakespeare Using a Character-level Language Model\n",
    "\n",
    "### From Words to Characters\n",
    "In the previous section we dealt with word-level language models. But looking again at section 1, there is nothing that constraints us to using _words_ as the basic elemnents in our model. The model we analyzed in section 1 could just as well be character-based - just replace \"word\" with \"character\", and you are good to go. In this notebook we will train a small character-based language model that will help us generate Shakespearean-like (emphasis on the _like_...) texts."
   ]
  },
  {
   "cell_type": "markdown",
   "metadata": {
    "deletable": false,
    "editable": false,
    "id": "EvGyr_ux8qLt",
    "nbgrader": {
     "cell_type": "markdown",
     "checksum": "9af7a343d0e3524c3fd846d987d766a8",
     "grade": false,
     "grade_id": "cell-7301754e4d655d01",
     "locked": true,
     "schema_version": 3,
     "solution": false,
     "task": false
    }
   },
   "source": [
    "### Question 2.a\n",
    "Can you think of an advantage a character-based language model could have over a word-based language model? And what about the other way around: can you think of an advantage a word-based language model could have over a character-based language model? (Add your answer to the final submission pdf)."
   ]
  },
  {
   "cell_type": "markdown",
   "metadata": {
    "deletable": false,
    "editable": false,
    "id": "ghCevRFf8qLt",
    "nbgrader": {
     "cell_type": "markdown",
     "checksum": "d46a8dfd340b8f68e51a041307f7d7d3",
     "grade": false,
     "grade_id": "cell-ebc0d8ae3061c0fc",
     "locked": true,
     "schema_version": 3,
     "solution": false,
     "task": false
    }
   },
   "source": [
    "### Using PyTorch\n",
    "\n",
    "We'll build our language model using PyTorch. PyTorch is a [very popular](https://thegradient.pub/state-of-ml-frameworks-2019-pytorch-dominates-research-tensorflow-dominates-industry/) open-source machine learning (and deep learning) framework developed by Facebook. In short:\n",
    "\n",
    "> Pytorch is a Python-based scientific computing package targeted at two sets of audiences:\n",
    "* A replacement for NumPy to use the power of GPUs\n",
    "* A deep learning research platform that provides maximum flexibility and speed\n",
    "\n",
    "To get familiar with PyTorch, check out this [quick tutorial](https://pytorch.org/tutorials/beginner/blitz/tensor_tutorial.html). In addition, another imporant difference from numpy is that PyTorch can automatically calculate the gradients needed for backpropagation, as explained [here](https://pytorch.org/tutorials/beginner/blitz/autograd_tutorial.html)."
   ]
  },
  {
   "cell_type": "markdown",
   "metadata": {
    "deletable": false,
    "editable": false,
    "id": "MYd79g6k8qLt",
    "nbgrader": {
     "cell_type": "markdown",
     "checksum": "02af8a21a2e8fae58d84f915de5b016d",
     "grade": false,
     "grade_id": "cell-aa2773db1bef7014",
     "locked": true,
     "schema_version": 3,
     "solution": false,
     "task": false
    }
   },
   "source": [
    "### Preparing the Data\n",
    "\n",
    "Our dataset is a plain text file. For simplicity, we turn any potential unicode characters into plain ASCII by using the `unidecode` package."
   ]
  },
  {
   "cell_type": "code",
   "execution_count": 3,
   "metadata": {
    "colab": {
     "base_uri": "https://localhost:8080/"
    },
    "deletable": false,
    "editable": false,
    "id": "RYqFoQgV8qLt",
    "nbgrader": {
     "cell_type": "code",
     "checksum": "ef0359e8c08b2057771c115150011e7e",
     "grade": false,
     "grade_id": "cell-cce75419c097f3fd",
     "locked": true,
     "schema_version": 3,
     "solution": false,
     "task": false
    },
    "outputId": "2726b5e9-17a7-4c51-f92c-fe6973828619",
    "pycharm": {
     "is_executing": false
    }
   },
   "outputs": [
    {
     "name": "stdout",
     "output_type": "stream",
     "text": [
      "Total number of characters in our dataset: 1115394\n"
     ]
    }
   ],
   "source": [
    "import string\n",
    "import random\n",
    "import re\n",
    "import requests\n",
    "import unidecode\n",
    "url = \"https://github.com/tau-nlp-course/NLP_HW2/raw/main/data/shakespeare.txt\"\n",
    "\n",
    "\n",
    "all_characters = string.printable\n",
    "n_characters = len(all_characters)  # our vocabulary size (|V| from the handout)\n",
    "\n",
    "dataset_as_string = unidecode.unidecode(requests.get(url).content.decode())\n",
    "n_chars_in_dataset = len(dataset_as_string)\n",
    "print(f'Total number of characters in our dataset: {n_chars_in_dataset}')"
   ]
  },
  {
   "cell_type": "markdown",
   "metadata": {
    "deletable": false,
    "editable": false,
    "id": "mIctyT3J8qLu",
    "nbgrader": {
     "cell_type": "markdown",
     "checksum": "06dd2ac91a6296206475c7e330e53e3d",
     "grade": false,
     "grade_id": "cell-d795f907dd7922f3",
     "locked": true,
     "schema_version": 3,
     "solution": false,
     "task": false
    }
   },
   "source": [
    "To make inputs out of this big string of text, we will split it into chunks."
   ]
  },
  {
   "cell_type": "code",
   "execution_count": 4,
   "metadata": {
    "colab": {
     "base_uri": "https://localhost:8080/"
    },
    "deletable": false,
    "editable": false,
    "id": "eoLs0ivz8qLu",
    "nbgrader": {
     "cell_type": "code",
     "checksum": "61947ad22fb7f16eba246d47ab8cae22",
     "grade": false,
     "grade_id": "cell-379f229536dae19b",
     "locked": true,
     "schema_version": 3,
     "solution": false,
     "task": false
    },
    "outputId": "7e36a18c-ecc8-4c37-db46-07018cb2266a",
    "pycharm": {
     "is_executing": false
    }
   },
   "outputs": [
    {
     "name": "stdout",
     "output_type": "stream",
     "text": [
      "n, be gone,\n",
      "That I might strive to kill it with a groan.\n",
      "\n",
      "KING RICHARD II:\n",
      "We make woe wanton with this fond delay:\n",
      "Once more, adieu; the rest let sorrow say.\n",
      "\n",
      "DUCHESS OF YORK:\n",
      "My lord, you told me you would tell the rest,\n",
      "When weeping made you break the story off,\n",
      "of our two cousins coming into London.\n",
      "\n",
      "DUKE OF YORK:\n",
      "Where did I leave?\n",
      "\n",
      "DUCHESS OF YORK:\n",
      "At that sad stop, my lord,\n",
      "Where rude misgov\n"
     ]
    }
   ],
   "source": [
    "chunk_len = 400\n",
    "\n",
    "def random_chunk():\n",
    "    start_index = random.randint(0, n_chars_in_dataset - chunk_len)\n",
    "    end_index = start_index + chunk_len + 1\n",
    "    return dataset_as_string[start_index:end_index]\n",
    "\n",
    "print(random_chunk())"
   ]
  },
  {
   "cell_type": "markdown",
   "metadata": {
    "deletable": false,
    "editable": false,
    "id": "ho8WlUcV8qLv",
    "nbgrader": {
     "cell_type": "markdown",
     "checksum": "ba5d4900ff254fa335fe935962878c8d",
     "grade": false,
     "grade_id": "cell-fcbb2d73f4e442fb",
     "locked": true,
     "schema_version": 3,
     "solution": false,
     "task": false
    }
   },
   "source": [
    "### Building Our Model\n",
    "\n",
    "Our model consists of three main components:\n",
    "\n",
    "1. [**Embedding**](https://pytorch.org/docs/stable/nn.html#embedding). A mapping between characters and their learned representations (\"word vectors\") \\[correspoding to ${\\boldsymbol L}$ in terms of the handout\\]\n",
    "2. [**GRU**](https://pytorch.org/docs/stable/nn.html#gru). \\[correspoding to the computation of ${\\boldsymbol h}^{(t)}$ in terms of the handout\\]\n",
    "3. **Output Layer**. A feed-forward neural network that transforms a hidden state at a timestep into a probability distribution of the next character. \\[correspoding to the computation of $\\hat{\\boldsymbol y}^{(t)}$ in terms of the handout\\]"
   ]
  },
  {
   "cell_type": "markdown",
   "metadata": {
    "id": "KFm8g2pd8qLv"
   },
   "source": [
    "### Question 2.b\n",
    "Complete the implementation of the `forward` method of our model."
   ]
  },
  {
   "cell_type": "code",
   "execution_count": 5,
   "metadata": {
    "deletable": false,
    "id": "2SoCQ_ZM8qLv",
    "nbgrader": {
     "cell_type": "code",
     "checksum": "a9ad1239fcd5aec23f439249397895ec",
     "grade": false,
     "grade_id": "cell-1640492438386e87",
     "locked": false,
     "schema_version": 3,
     "solution": true,
     "task": false
    },
    "pycharm": {
     "is_executing": false
    }
   },
   "outputs": [],
   "source": [
    "import torch\n",
    "import torch.nn as nn\n",
    "from torch.autograd import Variable\n",
    "\n",
    "class OurModel(nn.Module):\n",
    "    def __init__(self, input_size, hidden_size, output_size, num_layers=1):\n",
    "        super(OurModel, self).__init__()\n",
    "        self.input_size = input_size\n",
    "        self.hidden_size = hidden_size\n",
    "        self.output_size = output_size\n",
    "        self.num_layers = num_layers\n",
    "\n",
    "        self.embedding = nn.Embedding(input_size, hidden_size)  # In the terms of the handout, here d = D_h\n",
    "        self.gru = nn.GRU(hidden_size, hidden_size, num_layers)\n",
    "        self.output_layer = nn.Linear(hidden_size, output_size)\n",
    "\n",
    "    def forward(self, input_, hidden):\n",
    "        # General instructions:\n",
    "        # Pass the embedded input through the GRU and use the output layer to get the next character distribution.\n",
    "        # return that distribution and the next hidden state.\n",
    "        # You may need to play around with the dimensions a bit until you get it right. Dimension-induced frustration is good for you!\n",
    "        # -------------------------\n",
    "        # YOUR CODE HERE\n",
    "        output = self.embedding(input_).view(1, 1, -1)\n",
    "        output, hidden = self.gru(output, hidden)\n",
    "        output = self.output_layer(output.view(1, -1))\n",
    "        # -------------------------\n",
    "        return output, hidden\n",
    "\n",
    "    def init_hidden(self):\n",
    "        return Variable(torch.zeros(self.num_layers, 1, self.hidden_size))"
   ]
  },
  {
   "cell_type": "markdown",
   "metadata": {
    "deletable": false,
    "editable": false,
    "id": "aZWMbY1o8qLv",
    "nbgrader": {
     "cell_type": "markdown",
     "checksum": "da793a49917dc4882e7e70f04d07a777",
     "grade": false,
     "grade_id": "cell-b9299fddeb082b4e",
     "locked": true,
     "schema_version": 3,
     "solution": false,
     "task": false
    }
   },
   "source": [
    "### Creating the Training Examples"
   ]
  },
  {
   "cell_type": "markdown",
   "metadata": {
    "deletable": false,
    "editable": false,
    "id": "B-ngTV6Q8qLv",
    "nbgrader": {
     "cell_type": "markdown",
     "checksum": "f6eaeb80c370b32f26eda2ac1be57444",
     "grade": false,
     "grade_id": "cell-83bf9e1b0374206c",
     "locked": true,
     "schema_version": 3,
     "solution": false,
     "task": false
    }
   },
   "source": [
    "Each chunk will be turned into a tensor by looping through the characters of the string and looking up the index of each character in `all_characters`."
   ]
  },
  {
   "cell_type": "code",
   "execution_count": 6,
   "metadata": {
    "colab": {
     "base_uri": "https://localhost:8080/"
    },
    "deletable": false,
    "editable": false,
    "id": "98wyNtkw8qLv",
    "nbgrader": {
     "cell_type": "code",
     "checksum": "cc87bca342db2fde1b3957f48bcfe857",
     "grade": false,
     "grade_id": "cell-5360afdd0b03b1f4",
     "locked": true,
     "schema_version": 3,
     "solution": false,
     "task": false
    },
    "outputId": "05623659-53d1-40b4-d75c-6432d5c23b90",
    "pycharm": {
     "is_executing": false
    }
   },
   "outputs": [
    {
     "name": "stdout",
     "output_type": "stream",
     "text": [
      "tensor([10, 11, 12, 39, 40, 41])\n"
     ]
    }
   ],
   "source": [
    "# Turn a string into list of longs\n",
    "def chars_to_tensor(string):\n",
    "    tensor = torch.zeros(len(string)).long()\n",
    "    for c in range(len(string)):\n",
    "        tensor[c] = all_characters.index(string[c])\n",
    "    return Variable(tensor)\n",
    "\n",
    "print(chars_to_tensor('abcDEF'))"
   ]
  },
  {
   "cell_type": "markdown",
   "metadata": {
    "deletable": false,
    "editable": false,
    "id": "cYh_R1K88qLv",
    "nbgrader": {
     "cell_type": "markdown",
     "checksum": "f7fab2aa0d22a697fcc3d675b1821875",
     "grade": false,
     "grade_id": "cell-6e7b3d9e8c9396bb",
     "locked": true,
     "schema_version": 3,
     "solution": false,
     "task": false
    }
   },
   "source": [
    "Now we can assemble a pair of input and target tensors (i.e. a single training example) for training, from a random chunk. The input will be all characters *except the last*, and the target will be all characters *except the first*. So if our chunk is \"abc\" the input will correspond to \"ab\" while the target is \"bc\"."
   ]
  },
  {
   "cell_type": "code",
   "execution_count": 7,
   "metadata": {
    "deletable": false,
    "editable": false,
    "id": "QFDYhW3a8qLv",
    "nbgrader": {
     "cell_type": "code",
     "checksum": "adf90d7ec6728b2f45d1e8de5c47203c",
     "grade": false,
     "grade_id": "cell-d3539c5f1d96a188",
     "locked": true,
     "schema_version": 3,
     "solution": false,
     "task": false
    },
    "pycharm": {
     "is_executing": false
    }
   },
   "outputs": [],
   "source": [
    "def random_training_set():\n",
    "    chunk = random_chunk()\n",
    "    inp = chars_to_tensor(chunk[:-1])\n",
    "    target = chars_to_tensor(chunk[1:])\n",
    "    return inp, target"
   ]
  },
  {
   "cell_type": "markdown",
   "metadata": {
    "deletable": false,
    "editable": false,
    "id": "eU6VTX8F8qLv",
    "nbgrader": {
     "cell_type": "markdown",
     "checksum": "18a6bf800d9bc590739b15ba01dda408",
     "grade": false,
     "grade_id": "cell-16d13f3b273395ac",
     "locked": true,
     "schema_version": 3,
     "solution": false,
     "task": false
    }
   },
   "source": [
    "### Evaluating\n",
    "\n",
    "To evaluate the network we will feed one character at a time, use the outputs of the network as a probability distribution for the next character, and repeat. To start generation we pass a priming string to start building up the hidden state, from which we then generate one character at a time."
   ]
  },
  {
   "cell_type": "code",
   "execution_count": 8,
   "metadata": {
    "deletable": false,
    "editable": false,
    "id": "xeoACNc78qLv",
    "nbgrader": {
     "cell_type": "code",
     "checksum": "a47c721a818979b886f119401206e756",
     "grade": false,
     "grade_id": "cell-44ab27a8fee696ad",
     "locked": true,
     "schema_version": 3,
     "solution": false,
     "task": false
    },
    "pycharm": {
     "is_executing": false
    }
   },
   "outputs": [],
   "source": [
    "import torch.nn.functional as F\n",
    "\n",
    "def evaluate(prime_str='A', predict_len=100, temperature=0.8):\n",
    "    hidden = model.init_hidden()\n",
    "    prime_input = chars_to_tensor(prime_str)\n",
    "    predicted = prime_str\n",
    "\n",
    "    # Use priming string to \"build up\" hidden state\n",
    "    for p in range(len(prime_str) - 1):\n",
    "        _, hidden = model(prime_input[p], hidden)\n",
    "    inp = prime_input[-1]\n",
    "\n",
    "    for p in range(predict_len):\n",
    "        output, hidden = model(inp, hidden)\n",
    "\n",
    "        # Sample from the network as a multinomial distribution\n",
    "        output_dist =  F.softmax(output / temperature, dim=-1)\n",
    "        top_i = torch.multinomial(output_dist, 1)[0]\n",
    "\n",
    "        # Add predicted character to string and use as next input\n",
    "        predicted_char = all_characters[top_i]\n",
    "        predicted += predicted_char\n",
    "        inp = chars_to_tensor(predicted_char)\n",
    "\n",
    "    return predicted"
   ]
  },
  {
   "cell_type": "markdown",
   "metadata": {
    "deletable": false,
    "editable": false,
    "id": "iNmsUvyM8qLv",
    "nbgrader": {
     "cell_type": "markdown",
     "checksum": "3fffa10554299eaae14cc007fea3935a",
     "grade": false,
     "grade_id": "cell-1d3fd015fe8f64d1",
     "locked": true,
     "schema_version": 3,
     "solution": false,
     "task": false
    }
   },
   "source": [
    "### Training"
   ]
  },
  {
   "cell_type": "markdown",
   "metadata": {
    "deletable": false,
    "editable": false,
    "id": "AiCVg5Ec8qLv",
    "nbgrader": {
     "cell_type": "markdown",
     "checksum": "8a98218b35f47137eeba1ba1aead0700",
     "grade": false,
     "grade_id": "cell-a209b293a8850a57",
     "locked": true,
     "schema_version": 3,
     "solution": false,
     "task": false
    }
   },
   "source": [
    "The main training function"
   ]
  },
  {
   "cell_type": "code",
   "execution_count": 9,
   "metadata": {
    "deletable": false,
    "editable": false,
    "id": "Wug0q2Me8qLv",
    "nbgrader": {
     "cell_type": "code",
     "checksum": "eb3bfcd4d49b2f2672447d8c65b6cb05",
     "grade": false,
     "grade_id": "cell-e246cbd9689e1a6d",
     "locked": true,
     "schema_version": 3,
     "solution": false,
     "task": false
    },
    "pycharm": {
     "is_executing": false
    }
   },
   "outputs": [],
   "source": [
    "def train(inp, target):\n",
    "    hidden = model.init_hidden()\n",
    "    model.zero_grad()\n",
    "    loss = 0\n",
    "\n",
    "    for c in range(chunk_len):\n",
    "        output, hidden = model(inp[c], hidden)\n",
    "        loss += criterion(output, target[c].view(-1))\n",
    "\n",
    "    loss.backward()\n",
    "    optimizer.step()\n",
    "\n",
    "    return loss.item() / chunk_len"
   ]
  },
  {
   "cell_type": "markdown",
   "metadata": {
    "deletable": false,
    "editable": false,
    "id": "hFBSiQqS8qLv",
    "nbgrader": {
     "cell_type": "markdown",
     "checksum": "bfb863e279db4b170c35d8d0c7a37a1f",
     "grade": false,
     "grade_id": "cell-05ce9b9275e0d1cc",
     "locked": true,
     "schema_version": 3,
     "solution": false,
     "task": false
    }
   },
   "source": [
    "A helper to print the amount of time passed:"
   ]
  },
  {
   "cell_type": "code",
   "execution_count": 10,
   "metadata": {
    "deletable": false,
    "editable": false,
    "id": "vIzUAL-a8qLv",
    "nbgrader": {
     "cell_type": "code",
     "checksum": "16d7b53f211a6a1bef71c1dd2d1271cf",
     "grade": false,
     "grade_id": "cell-cb78afef7022f9a1",
     "locked": true,
     "schema_version": 3,
     "solution": false,
     "task": false
    },
    "pycharm": {
     "is_executing": false
    }
   },
   "outputs": [],
   "source": [
    "import time, math\n",
    "\n",
    "def time_since(since):\n",
    "    s = time.time() - since\n",
    "    m = math.floor(s / 60)\n",
    "    s -= m * 60\n",
    "    return f'{m}m {math.floor(s)}s'"
   ]
  },
  {
   "cell_type": "code",
   "execution_count": 11,
   "metadata": {
    "deletable": false,
    "editable": false,
    "id": "pAlXhasn8qLv",
    "nbgrader": {
     "cell_type": "code",
     "checksum": "2b368f1767ddd0eddca44249fa47ed32",
     "grade": true,
     "grade_id": "cell-98f46bec0b8c87cc",
     "locked": true,
     "points": 10,
     "schema_version": 3,
     "solution": false,
     "task": false
    }
   },
   "outputs": [],
   "source": [
    "# DO NOT DELETE THIS CELL\n"
   ]
  },
  {
   "cell_type": "markdown",
   "metadata": {
    "deletable": false,
    "editable": false,
    "id": "0Xva5o5I8qLv",
    "nbgrader": {
     "cell_type": "markdown",
     "checksum": "98abd7dd7805753c2e7b635f1265cb73",
     "grade": false,
     "grade_id": "cell-baf25642209867dc",
     "locked": true,
     "schema_version": 3,
     "solution": false,
     "task": false
    }
   },
   "source": [
    "Define the training parameters, instantiate the model, and start training:"
   ]
  },
  {
   "cell_type": "code",
   "execution_count": 12,
   "metadata": {
    "deletable": false,
    "editable": false,
    "id": "pRLHP-UQ8qLw",
    "nbgrader": {
     "cell_type": "code",
     "checksum": "ab44452ad9f838e0b56e1fc154ab6125",
     "grade": false,
     "grade_id": "cell-4900f92ae503be69",
     "locked": true,
     "schema_version": 3,
     "solution": false,
     "task": false
    },
    "pycharm": {
     "is_executing": false
    }
   },
   "outputs": [
    {
     "name": "stdout",
     "output_type": "stream",
     "text": [
      "[time elapsed: 0m 19s  ;  epochs: 100 (5.0%)  ;  loss: 2.145]\n",
      "WhO\n",
      "Bust this ken's the ferar wichout cof bour dorels darasst chomein mee wift?\n",
      "\n",
      "DRKESIMA:\n",
      "Wor moy this here shapers there yof broust si her, Intod the ay, kest thet Wrowhuch ofr cand yis starure fonid, \n",
      "\n",
      "[time elapsed: 0m 35s  ;  epochs: 200 (10.0%)  ;  loss: 2.175]\n",
      "Wh}omeflier.\n",
      "\n",
      "LICISTEO:\n",
      "Bty fare thu far with ard fere not lize, it fother ans you hars ney?\n",
      "\n",
      "BRKIUS:\n",
      "And, the frever sure soth but word frand\n",
      "And ie, ir suth bedneln,\n",
      "If nol.\n",
      "\n",
      "KIN wh to I shall and sea \n",
      "\n",
      "[time elapsed: 0m 53s  ;  epochs: 300 (15.0%)  ;  loss: 1.791]\n",
      "Which than yor the mad with not I me, the will teald thou swour\n",
      "To with wilces ow here aup do he lith retis do of conseef to tus conting:\n",
      "not canine lor the?\n",
      "\n",
      "Mead, anbues dee.\n",
      "\n",
      "BRUCISTCATIN:\n",
      "Tha the th \n",
      "\n",
      "[time elapsed: 1m 10s  ;  epochs: 400 (20.0%)  ;  loss: 2.104]\n",
      "Whicthries dinky the shels sand quesen,\n",
      "And let\n",
      "That he and as nown me would and thous aind ther'ld hous here seece mornied, were lood youm\n",
      "And matend, of and your shalth cusen mankith as ack midies bay \n",
      "\n",
      "[time elapsed: 1m 28s  ;  epochs: 500 (25.0%)  ;  loss: 1.87]\n",
      "Whin ubliend,\n",
      "And no with bod, If mark ally me marce of are mey ale\n",
      "Whome and the preing sturnne, on, hous,\n",
      "And froon our armbard sead I does minged sirl, my hee! poven with Julaith notther insunged is  \n",
      "\n",
      "[time elapsed: 1m 45s  ;  epochs: 600 (30.0%)  ;  loss: 1.716]\n",
      "Wh, Ruthis lagione marm.\n",
      "\n",
      "MEROE:\n",
      "\n",
      "BAUTI well Sway when but Sisaliuch.\n",
      "\n",
      "MERCUO:\n",
      "Sir looks the where when here.\n",
      "\n",
      "ISALANUS:\n",
      "And seep not she sold mo me but shall what she so gread deak in where in of farin \n",
      "\n",
      "[time elapsed: 2m 3s  ;  epochs: 700 (35.0%)  ;  loss: 1.913]\n",
      "Wh,\n",
      "And we enjuming the ciust rembler hand, find to thew worry:\n",
      "Give horienteth plight it will free to resing with had forthing;\n",
      "Nor cts the death Saingast.\n",
      "\n",
      "RORIO:\n",
      "What thou deen thou with deiteed,\n",
      "Whe \n",
      "\n",
      "[time elapsed: 2m 19s  ;  epochs: 800 (40.0%)  ;  loss: 1.893]\n",
      "What a befent their be is them in spalking.\n",
      "\n",
      "DUKE IINIUS:\n",
      "Is not he in to hove den,\n",
      "Are cuat I were canning teince\n",
      "Of Nove are in them here as shall to his crowin\n",
      "ungo the nover of thee\n",
      "comible the gip  \n",
      "\n",
      "[time elapsed: 2m 38s  ;  epochs: 900 (45.0%)  ;  loss: 1.694]\n",
      "Whak now stry Warwom\n",
      "As be and to well are thy tha shall baykly!\n",
      "\n",
      "ANGEL:\n",
      "Lowr than he was, ary all gives not thou honesting lought one negeal the shart\n",
      "There good we last bearp.\n",
      "\n",
      "LOXLARDY CLIVIXEN:\n",
      "The  \n",
      "\n",
      "[time elapsed: 2m 55s  ;  epochs: 1000 (50.0%)  ;  loss: 1.731]\n",
      "WhIs his he\n",
      "And brown, not say, show in your follow, not with not his with the swear'd,\n",
      "With he for the seen his the some.\n",
      "\n",
      "KALLO:\n",
      "They at thou all, not thee, and seek we doness, ar them a aller words o \n",
      "\n",
      "[time elapsed: 3m 12s  ;  epochs: 1100 (55.00000000000001%)  ;  loss: 1.825]\n",
      "Wh:\n",
      "Why many lost of your have of you know thint Prialcius,\n",
      "Or which counds a liveds our that we hears but not his manian,\n",
      "Are my that wither to word, but ell my for be suntue,\n",
      "Or: and a the crelades's  \n",
      "\n",
      "[time elapsed: 3m 29s  ;  epochs: 1200 (60.0%)  ;  loss: 1.646]\n",
      "Wh; and of to think the constace; thy mady mander,\n",
      "And surk carne reuch Richard?\n",
      "\n",
      "PETRUCHIO:\n",
      "Petry of you resign of your have on this ruce.\n",
      "\n",
      "Thirm: think thy rester'd lord,\n",
      "What on silles, all fle, and  \n",
      "\n",
      "[time elapsed: 3m 47s  ;  epochs: 1300 (65.0%)  ;  loss: 1.753]\n",
      "Which for\n",
      "Come hate he a work her the grought me of her he he be good servible:\n",
      "Why the love then of the this dabelish\n",
      "So be live thy do a to that me\n",
      "Imn them of mout every and conous though to the the  \n",
      "\n",
      "[time elapsed: 4m 5s  ;  epochs: 1400 (70.0%)  ;  loss: 1.692]\n",
      "Whe convour fades\n",
      "How their good my before runie, you, if ungureth;\n",
      "'Ting they in you art I warshould,\n",
      "Then not surn bro lovere, and I would, broa my brop?\n",
      "\n",
      "CLIZALTSABELA:\n",
      "Whek'd, Bresper sparret, burno \n",
      "\n",
      "[time elapsed: 4m 22s  ;  epochs: 1500 (75.0%)  ;  loss: 1.789]\n",
      "Wh,\n",
      "And cans a the grolen.\n",
      "\n",
      "GLOUCESTER:\n",
      "well my be the daughter--Mard;\n",
      "Surt, I harged disperthes he book a charty of madon\n",
      "And that he him hear my seet, but guile's here with my love:\n",
      "And thee'l lity, w \n",
      "\n",
      "[time elapsed: 4m 40s  ;  epochs: 1600 (80.0%)  ;  loss: 1.824]\n",
      "Wht?\n",
      "\n",
      "CORIIUS:\n",
      "O come,\n",
      "But ear of preson weh, see sprest a prayed you.\n",
      "\n",
      "KING EDWARD IV:\n",
      "Do your demets the me: thou so liestreed?\n",
      "\n",
      "MERGLOUS:\n",
      "Here,\n",
      "I wars thou lever of he good.\n",
      "\n",
      "ROMEO:\n",
      "You see am thou w \n",
      "\n",
      "[time elapsed: 4m 56s  ;  epochs: 1700 (85.0%)  ;  loss: 1.769]\n",
      "Whed doung dies's sir,\n",
      "To shall shall I such us rewill I have did your feds that he forthes\n",
      "Of live some bettat the dreat him!\n",
      "For fird the EVre, is this hay yours maty.\n",
      "\n",
      "GREMIO:\n",
      "Go rear your forth igno \n",
      "\n",
      "[time elapsed: 5m 14s  ;  epochs: 1800 (90.0%)  ;  loss: 1.608]\n",
      "Why, Shir and gave frair in this poon it powning\n",
      "As is to court me a filitioge,\n",
      "Let of a dother he consue!\n",
      "In his have roles, if than coldst fore; that like it.\n",
      "\n",
      "God Chidest:\n",
      "The canting so be this then \n",
      "\n",
      "[time elapsed: 5m 30s  ;  epochs: 1900 (95.0%)  ;  loss: 1.588]\n",
      "Why unto thou she thy\n",
      "A pllest am an and not strown heart and goding the broth\n",
      "Thou been this you be speels before\n",
      "And should speak too be I wailt twain.\n",
      "\n",
      "QUEEN ELIZABETH:\n",
      "And prind thy shall to bego.\n",
      "\n",
      " \n",
      "\n",
      "[time elapsed: 5m 48s  ;  epochs: 2000 (100.0%)  ;  loss: 1.844]\n",
      "Whion:\n",
      "You: my inso to man whreor, the reight,\n",
      "And crown thy shall the new deather, with not with see\n",
      "shemed be mistrease of he have lefters\n",
      "So loyes stand my must of Bond with the way.\n",
      "\n",
      "KATHANGLEO:\n",
      "Or  \n",
      "\n"
     ]
    }
   ],
   "source": [
    "n_epochs = 2000\n",
    "print_every = 100\n",
    "plot_every = 10\n",
    "hidden_size = 100  # (D_h from the handout)\n",
    "num_layers = 1\n",
    "lr = 0.005\n",
    "\n",
    "model = OurModel(n_characters, hidden_size, n_characters, num_layers)\n",
    "optimizer = torch.optim.Adam(model.parameters(), lr=lr)\n",
    "criterion = nn.CrossEntropyLoss()\n",
    "\n",
    "start = time.time()\n",
    "all_losses = []\n",
    "loss_avg = 0\n",
    "\n",
    "for epoch in range(1, n_epochs + 1):\n",
    "    loss = train(*random_training_set())\n",
    "    loss_avg += loss\n",
    "\n",
    "    if epoch % print_every == 0:\n",
    "        print(f'[time elapsed: {time_since(start)}  ;  epochs: {epoch} ({epoch / n_epochs * 100}%)  ;  loss: {loss:.4}]')\n",
    "        print(evaluate('Wh', 200), '\\n')  # generate text starting with 'Wh'\n",
    "\n",
    "    if epoch % plot_every == 0:\n",
    "        all_losses.append(loss_avg / plot_every)\n",
    "        loss_avg = 0"
   ]
  },
  {
   "cell_type": "markdown",
   "metadata": {
    "deletable": false,
    "editable": false,
    "id": "dXeVkk298qLw",
    "nbgrader": {
     "cell_type": "markdown",
     "checksum": "8584d3be75d90a5197e7133411e0021d",
     "grade": false,
     "grade_id": "cell-ff9d72dafefa0a23",
     "locked": true,
     "schema_version": 3,
     "solution": false,
     "task": false
    }
   },
   "source": [
    "### Training Loss\n",
    "\n",
    "Plotting the the losses that were computed during training can provide a further indication that the network was indeed learning (Add your plot to the final submission pdf)."
   ]
  },
  {
   "cell_type": "code",
   "execution_count": 17,
   "metadata": {
    "deletable": false,
    "editable": false,
    "id": "S2SZanbV8qLw",
    "nbgrader": {
     "cell_type": "code",
     "checksum": "357a8a13a77f5e3b3e336e022dc596d4",
     "grade": false,
     "grade_id": "cell-f91bb597844b8f7d",
     "locked": true,
     "schema_version": 3,
     "solution": false,
     "task": false
    },
    "pycharm": {
     "is_executing": false
    }
   },
   "outputs": [
    {
     "data": {
      "text/plain": [
       "[<matplotlib.lines.Line2D at 0x7fa3145b8e50>]"
      ]
     },
     "execution_count": 17,
     "metadata": {},
     "output_type": "execute_result"
    },
    {
     "data": {
      "image/png": "[encoded data removed]",
      "text/plain": [
       "<Figure size 432x288 with 1 Axes>"
      ]
     },
     "metadata": {
      "needs_background": "light"
     },
     "output_type": "display_data"
    }
   ],
   "source": [
    "import matplotlib.pyplot as plt\n",
    "%matplotlib inline\n",
    "\n",
    "plt.grid(True)\n",
    "plt.xlabel('# of epochs (divided by plot_every)')\n",
    "plt.ylabel('average loss')\n",
    "plt.plot(all_losses)"
   ]
  },
  {
   "cell_type": "markdown",
   "metadata": {},
   "source": [
    "### preplexity\n"
   ]
  },
  {
   "cell_type": "code",
   "execution_count": 19,
   "metadata": {},
   "outputs": [
    {
     "name": "stdout",
     "output_type": "stream",
     "text": [
      "Perplexity on shakespeare_for_perplexity.txt: 6.89\n",
      "Perplexity on wikipedia_for_perplexity.txt: 15.55\n"
     ]
    }
   ],
   "source": [
    "#preplexit eval\n",
    "def evaluate_perplexity(eval_text, model, criterion, chunk_len=400):\n",
    "    model.eval()\n",
    "    total_loss = 0\n",
    "    count = 0\n",
    "\n",
    "    with torch.no_grad():\n",
    "        for i in range(0, len(eval_text) - chunk_len, chunk_len):\n",
    "            chunk = eval_text[i:i+chunk_len+1]\n",
    "            input_seq = chars_to_tensor(chunk[:-1])\n",
    "            target_seq = chars_to_tensor(chunk[1:])\n",
    "            hidden = model.init_hidden()\n",
    "\n",
    "            for j in range(chunk_len):\n",
    "                output, hidden = model(input_seq[j], hidden)\n",
    "                loss = criterion(output, target_seq[j].unsqueeze(0))\n",
    "                total_loss += loss.item()\n",
    "                count += 1\n",
    "\n",
    "    avg_loss = total_loss / count\n",
    "    perplexity = torch.exp(torch.tensor(avg_loss))  # e^cross-entropy\n",
    "    return perplexity.item()\n",
    "\n",
    "criterion = nn.CrossEntropyLoss()\n",
    "\n",
    "with open(\"shakespeare_for_perplexity.txt\", \"r\", encoding=\"utf-8\") as f:\n",
    "    eval_text = unidecode.unidecode(f.read())\n",
    "perplexity = evaluate_perplexity(eval_text, model, criterion)\n",
    "print(f\"Perplexity on shakespeare_for_perplexity.txt: {perplexity:.2f}\")\n",
    "\n",
    "with open(\"wikipedia_for_perplexity.txt\", \"r\", encoding=\"utf-8\") as f:\n",
    "    eval_text = unidecode.unidecode(f.read())\n",
    "perplexity = evaluate_perplexity(eval_text, model, criterion)\n",
    "print(f\"Perplexity on wikipedia_for_perplexity.txt: {perplexity:.2f}\")\n"
   ]
  }
 ],
 "metadata": {
  "anaconda-cloud": {},
  "colab": {
   "provenance": []
  },
  "kernelspec": {
   "display_name": "base",
   "language": "python",
   "name": "python3"
  },
  "language_info": {
   "codemirror_mode": {
    "name": "ipython",
    "version": 3
   },
   "file_extension": ".py",
   "mimetype": "text/x-python",
   "name": "python",
   "nbconvert_exporter": "python",
   "pygments_lexer": "ipython3",
   "version": "3.7.6"
  },
  "pycharm": {
   "stem_cell": {
    "cell_type": "raw",
    "metadata": {
     "collapsed": false
    },
    "source": []
   }
  }
 },
 "nbformat": 4,
 "nbformat_minor": 1
}
